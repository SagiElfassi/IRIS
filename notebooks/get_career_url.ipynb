{
 "cells": [
  {
   "cell_type": "code",
   "execution_count": 8,
   "metadata": {},
   "outputs": [
    {
     "name": "stdout",
     "output_type": "stream",
     "text": [
      "Collecting google\n",
      "  Using cached google-3.0.0-py2.py3-none-any.whl (45 kB)\n",
      "Requirement already satisfied: beautifulsoup4 in /Users/itamarbergfreund/opt/anaconda3/lib/python3.6/site-packages (from google) (4.8.0)\n",
      "Requirement already satisfied: soupsieve>=1.2 in /Users/itamarbergfreund/opt/anaconda3/lib/python3.6/site-packages (from beautifulsoup4->google) (1.9.3)\n",
      "Installing collected packages: google\n",
      "Successfully installed google-3.0.0\n",
      "\u001b[33mWARNING: You are using pip version 20.1.1; however, version 20.2.3 is available.\n",
      "You should consider upgrading via the '/Users/itamarbergfreund/opt/anaconda3/bin/python -m pip install --upgrade pip' command.\u001b[0m\n"
     ]
    }
   ],
   "source": [
    "!pip install google\n"
   ]
  },
  {
   "cell_type": "code",
   "execution_count": 18,
   "metadata": {},
   "outputs": [],
   "source": [
    "# import libraries:\n",
    "from googlesearch import search\n",
    "import pandas as pd\n"
   ]
  },
  {
   "cell_type": "code",
   "execution_count": 22,
   "metadata": {},
   "outputs": [
    {
     "name": "stdout",
     "output_type": "stream",
     "text": [
      "          name\n",
      "0    Microsoft\n",
      "1    Autofleet\n",
      "2   Cellebrite\n",
      "3     Localize\n",
      "4         Waze\n",
      "5          ITC\n",
      "6   Moonactive\n",
      "7          IBM\n",
      "8        Intel\n",
      "9   Checkpoint\n",
      "10    Outbrain\n",
      "11    Facebook\n",
      "12      Amazon\n",
      "13   Microsoft\n",
      "14        Acer\n",
      "15       Tesla\n"
     ]
    }
   ],
   "source": [
    "# get companies:\n",
    "filename = 'companies.csv'\n",
    "companies = pd.read_csv(filename)\n",
    "print(companies)"
   ]
  },
  {
   "cell_type": "code",
   "execution_count": 36,
   "metadata": {},
   "outputs": [
    {
     "name": "stdout",
     "output_type": "stream",
     "text": [
      "https://careers.microsoft.com/\n",
      "https://apply.workable.com/autofleet/?lng=en\n",
      "https://www.cellebrite.com/en/about/careers/\n",
      "https://www.comeet.com/jobs/localize/33.00F\n",
      "https://www.waze.com/careers\n",
      "https://www.itc.tech/careers-page/\n",
      "https://www.moonactive.com/careers/\n",
      "https://www.ibm.com/il-en/employment/\n",
      "https://jobs.intel.com/\n",
      "https://careers.checkpoint.com/\n",
      "https://careers.outbrain.com/\n",
      "https://www.facebook.com/careers/locations/tel-aviv/\n",
      "https://www.amazon.jobs/\n",
      "https://careers.microsoft.com/\n",
      "https://www.acer.com/ac/en/US/content/careers\n",
      "https://www.tesla.com/careers\n"
     ]
    }
   ],
   "source": [
    "my_results_list = []\n",
    "for c in companies['name']:\n",
    "    for i in search(c + ' career jobs',        # The query you want to run\n",
    "                    country = 'il',\n",
    "                    tld = 'com',  # The top level domain\n",
    "                    lang = 'en',  # The language\n",
    "                    num = 1,     # Number of results per page\n",
    "                    start = 0,    # First result to retrieve\n",
    "                    stop = 1,  # Last result to retrieve\n",
    "                    pause = 2.0,  # Lapse between HTTP requests\n",
    "                   ):\n",
    "        my_results_list.append(i)\n",
    "        print(i)"
   ]
  },
  {
   "cell_type": "code",
   "execution_count": null,
   "metadata": {},
   "outputs": [],
   "source": []
  }
 ],
 "metadata": {
  "kernelspec": {
   "display_name": "Python 3",
   "language": "python",
   "name": "python3"
  },
  "language_info": {
   "codemirror_mode": {
    "name": "ipython",
    "version": 3
   },
   "file_extension": ".py",
   "mimetype": "text/x-python",
   "name": "python",
   "nbconvert_exporter": "python",
   "pygments_lexer": "ipython3",
   "version": "3.6.9"
  }
 },
 "nbformat": 4,
 "nbformat_minor": 4
}
