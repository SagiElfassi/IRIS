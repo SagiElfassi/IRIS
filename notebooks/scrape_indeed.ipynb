{
 "cells": [
  {
   "cell_type": "markdown",
   "metadata": {},
   "source": [
    "# Indeed – Job Scraping"
   ]
  },
  {
   "cell_type": "markdown",
   "metadata": {},
   "source": [
    "## Requirements "
   ]
  },
  {
   "cell_type": "code",
   "execution_count": 124,
   "metadata": {},
   "outputs": [],
   "source": [
    "# Lead Packages:\n",
    "from bs4 import BeautifulSoup \n",
    "import requests\n",
    "import numpy as np"
   ]
  },
  {
   "cell_type": "code",
   "execution_count": 173,
   "metadata": {},
   "outputs": [],
   "source": [
    "def create_list_of_job_info_dict(job_listings, jobs=[]):\n",
    "    \"\"\"\n",
    "    Function creates a list of job info dictionaries\n",
    "    \"\"\"\n",
    "    \n",
    "    jobs_list = []\n",
    "    \n",
    "    for job in job_listings:\n",
    "        \n",
    "        # create job info dict:\n",
    "        job_info = dict()\n",
    "        try:\n",
    "            job_info['company'] = job.find(\"span\", class_='company').text.strip()\n",
    "        except AttributeError:\n",
    "            job_info['company'] = None\n",
    "            \n",
    "        job_info['location'] = job.find('div', class_=\"recJobLoc\")['data-rc-loc']\n",
    "        job_info['title'] = job.find('a')['title'].strip()\n",
    "        job_info['posted'] = job.find('span', class_='date').text\n",
    "        job_info['description'] = job.find('div', class_='summary').text.strip().replace('\\n', '')\n",
    "        job_info['link'] = job.find('a')['href']\n",
    "        \n",
    "        # append dictionary to job list:\n",
    "        jobs.append(job_info)\n",
    "    \n",
    "    return jobs\n",
    "    \n",
    "    "
   ]
  },
  {
   "cell_type": "code",
   "execution_count": 174,
   "metadata": {},
   "outputs": [],
   "source": [
    "query = 'data'\n",
    "location = 'israel'\n",
    "days_ago = 2\n",
    "url = f\"https://il.indeed.com/jobs?q={query}&l={location}&fromage={days_ago}&sort=date\" # add &start=1"
   ]
  },
  {
   "cell_type": "code",
   "execution_count": 175,
   "metadata": {},
   "outputs": [
    {
     "data": {
      "text/plain": [
       "'https://il.indeed.com/jobs?q=data&l=israel&fromage=2&sort=date'"
      ]
     },
     "execution_count": 175,
     "metadata": {},
     "output_type": "execute_result"
    }
   ],
   "source": [
    "url"
   ]
  },
  {
   "cell_type": "code",
   "execution_count": 176,
   "metadata": {},
   "outputs": [],
   "source": [
    "webpage = requests.get(url)\n",
    "soup = BeautifulSoup(webpage.content, \"html.parser\")"
   ]
  },
  {
   "cell_type": "code",
   "execution_count": 177,
   "metadata": {},
   "outputs": [
    {
     "name": "stdout",
     "output_type": "stream",
     "text": [
      "found 119 jobs\n",
      "7 to scrape\n"
     ]
    }
   ],
   "source": [
    "# how many jobs where found:\n",
    "search_count = soup.find(id=\"resultsCol\").find(id=\"searchCountPages\").text\n",
    "job_count = max([int(s) for s in search_count.replace(',', \"\").split() if s.isdigit()]) \n",
    "page_count = int(np.ceil(job_count // 15))\n",
    "\n",
    "print(f\"found {job_count} jobs\")\n",
    "print(f'{page_count} to scrape')"
   ]
  },
  {
   "cell_type": "code",
   "execution_count": 187,
   "metadata": {},
   "outputs": [],
   "source": [
    "jobs = []\n",
    "for page in range(0, page_count*10+1, 10):\n",
    "    url = f\"https://il.indeed.com/jobs?q={query}&l={location}&fromage={days_ago}&start={page}\" # add &start=1\n",
    "    webpage = requests.get(url)\n",
    "    soup = BeautifulSoup(webpage.content, \"html.parser\")\n",
    "    job_listings = soup.find(id=\"resultsCol\").find_all('div', class_='jobsearch-SerpJobCard')\n",
    "    jobs = create_list_of_job_info_dict(job_listings, jobs)\n"
   ]
  },
  {
   "cell_type": "code",
   "execution_count": 186,
   "metadata": {},
   "outputs": [
    {
     "data": {
      "text/plain": [
       "120"
      ]
     },
     "execution_count": 186,
     "metadata": {},
     "output_type": "execute_result"
    }
   ],
   "source": [
    "len(jobs)"
   ]
  },
  {
   "cell_type": "code",
   "execution_count": 172,
   "metadata": {},
   "outputs": [
    {
     "name": "stdout",
     "output_type": "stream",
     "text": [
      "[<span class=\"new\">חדש</span>, <span class=\"company\">\n",
      "Verint</span>, <span class=\"location accessible-contrast-color-location\">הרצליה, מחוז תל אביב</span>, <span class=\"jobCardShelfIcon\"><svg fill=\"none\" height=\"16\" viewbox=\"0 0 20 20\" width=\"16\"><rect fill=\"#FF5A1F\" height=\"20\" rx=\"10\" width=\"20\"></rect><path clip-rule=\"evenodd\" d=\"M15.3125 4.0625L10.8125 15.3125L7.99999 11.375L15.3125 4.0625ZM7.604 12.7576L6.875 15.3125L8.567 14.1054L7.604 12.7576ZM7.20463 10.5796L12.419 5.36525L4.0625 9.125L6.9875 10.7968L7.20463 10.5796Z\" fill=\"white\" fill-rule=\"evenodd\"></path></svg></span>, <span class=\"iaLabel iaIconActive\">הגשת מועמדות בקלות</span>, <span class=\"date\">פורסם כרגע</span>, <span class=\"tt_set\" id=\"tt_set_0\"><span class=\"result-link-bar-separator\">·</span><a class=\"sl resultLink save-job-link\" href=\"#\" id=\"sj_bfcd90dde9cb5ffe\" onclick=\"changeJobState('bfcd90dde9cb5ffe', 'save', 'linkbar', false, ''); return false;\" title=\"שמירת משרה זו ל-my.indeed\">שמירת משרה</a><span class=\"result-link-bar-separator\">·</span><button aria-expanded=\"false\" class=\"sl resultLink more-link\" id=\"tog_0\" onclick=\"toggleMoreLinks('bfcd90dde9cb5ffe', '0'); return false;\">עוד...</button></span>, <span class=\"result-link-bar-separator\">·</span>, <span class=\"result-link-bar-separator\">·</span>, <span class=\"mat\">הצגת כל המשרות <a href=\"/Verint-jobs\" rel=\"nofollow\">משרות Verint</a> - <a href=\"/jobs-in-%D7%94%D7%A8%D7%A6%D7%9C%D7%99%D7%94,-%D7%9E%D7%97%D7%95%D7%96-%D7%AA%D7%9C-%D7%90%D7%91%D7%99%D7%91\">הרצליה</a></span>]\n",
      "/rc/clk?jk=bfcd90dde9cb5ffe&fccid=f4afeb6b5d900043&vjs=3\n",
      "{'company': 'Verint', 'location': 'הרצליה, מחוז תל אביב', 'title': 'Product Intelligence Expert- French speaker', 'posted': 'פורסם כרגע', 'description': 'networks –Must Familiarity with IP and Packed data world Experience with SIGINT collection systems (Data Analyzing/Mining, GIS ,Cyber) Content development...', 'link': '/rc/clk?jk=bfcd90dde9cb5ffe&fccid=f4afeb6b5d900043&vjs=3'}\n",
      "[<span class=\"new\">חדש</span>, <span class=\"company\">\n",
      "Fabric</span>, <span class=\"location accessible-contrast-color-location\">תל אביב -יפו, מחוז תל אביב</span>, <span class=\"jobCardShelfIcon\"><svg fill=\"none\" height=\"16\" viewbox=\"0 0 20 20\" width=\"16\"><rect fill=\"#FF5A1F\" height=\"20\" rx=\"10\" width=\"20\"></rect><path clip-rule=\"evenodd\" d=\"M15.3125 4.0625L10.8125 15.3125L7.99999 11.375L15.3125 4.0625ZM7.604 12.7576L6.875 15.3125L8.567 14.1054L7.604 12.7576ZM7.20463 10.5796L12.419 5.36525L4.0625 9.125L6.9875 10.7968L7.20463 10.5796Z\" fill=\"white\" fill-rule=\"evenodd\"></path></svg></span>, <span class=\"iaLabel iaIconActive\">הגשת מועמדות בקלות</span>, <span class=\"date\">היום</span>, <span class=\"tt_set\" id=\"tt_set_1\"><span class=\"result-link-bar-separator\">·</span><a class=\"sl resultLink save-job-link\" href=\"#\" id=\"sj_588796f6eb408f24\" onclick=\"changeJobState('588796f6eb408f24', 'save', 'linkbar', false, ''); return false;\" title=\"שמירת משרה זו ל-my.indeed\">שמירת משרה</a><span class=\"result-link-bar-separator\">·</span><button aria-expanded=\"false\" class=\"sl resultLink more-link\" id=\"tog_1\" onclick=\"toggleMoreLinks('588796f6eb408f24', '1'); return false;\">עוד...</button></span>, <span class=\"result-link-bar-separator\">·</span>, <span class=\"result-link-bar-separator\">·</span>, <span class=\"mat\">הצגת כל המשרות <a href=\"/Fabric-jobs\" rel=\"nofollow\">משרות Fabric</a> - <a href=\"/jobs?l=%D7%AA%D7%9C+%D7%90%D7%91%D7%99%D7%91+-%D7%99%D7%A4%D7%95,+%D7%9E%D7%97%D7%95%D7%96+%D7%AA%D7%9C+%D7%90%D7%91%D7%99%D7%91\">תל אביב -יפו</a></span>]\n",
      "/rc/clk?jk=588796f6eb408f24&fccid=66239d07287494ea&vjs=3\n",
      "{'company': 'Fabric', 'location': 'תל אביב -יפו, מחוז תל אביב', 'title': 'Information Systems Manager', 'posted': 'היום', 'description': 'Responsibility over the connectivity of information systems to the various data sources include 3PL, manufacturers and our system. Integrate new tools and...', 'link': '/rc/clk?jk=588796f6eb408f24&fccid=66239d07287494ea&vjs=3'}\n",
      "[<span class=\"new\">חדש</span>, <span class=\"company\">\n",
      "Mploy</span>, <span class=\"location accessible-contrast-color-location\">תל אביב -יפו, מחוז תל אביב</span>, <span class=\"date\">היום</span>, <span class=\"tt_set\" id=\"tt_set_2\"><span class=\"result-link-bar-separator\">·</span><a class=\"sl resultLink save-job-link\" href=\"#\" id=\"sj_ac0178ff6581cacb\" onclick=\"changeJobState('ac0178ff6581cacb', 'save', 'linkbar', false, ''); return false;\" title=\"שמירת משרה זו ל-my.indeed\">שמירת משרה</a><span class=\"result-link-bar-separator\">·</span><button aria-expanded=\"false\" class=\"sl resultLink more-link\" id=\"tog_2\" onclick=\"toggleMoreLinks('ac0178ff6581cacb', '2'); return false;\">עוד...</button></span>, <span class=\"result-link-bar-separator\">·</span>, <span class=\"result-link-bar-separator\">·</span>, <span class=\"mat\">הצגת כל המשרות <a href=\"/Mploy-jobs\" rel=\"nofollow\">משרות Mploy</a> - <a href=\"/jobs?l=%D7%AA%D7%9C+%D7%90%D7%91%D7%99%D7%91+-%D7%99%D7%A4%D7%95,+%D7%9E%D7%97%D7%95%D7%96+%D7%AA%D7%9C+%D7%90%D7%91%D7%99%D7%91\">תל אביב -יפו</a></span>]\n",
      "/rc/clk?jk=ac0178ff6581cacb&fccid=5d5f86c4d3aacc79&vjs=3\n",
      "{'company': 'Mploy', 'location': 'תל אביב -יפו, מחוז תל אביב', 'title': 'אבטחת מידע', 'posted': 'היום', 'description': 'ואבטחת מידע. התפקיד כולל השתלבות בצוות מובחר של מומחי עולמות it. תכנון והקמה של data center, הטמעה של מערכות תקשורת מורכבות ואבטחת מידע. תמיכה טכנית באסקלציה...', 'link': '/rc/clk?jk=ac0178ff6581cacb&fccid=5d5f86c4d3aacc79&vjs=3'}\n",
      "[<span class=\"new\">חדש</span>, <span class=\"company\">\n",
      "LivePerson</span>, <span class=\"location accessible-contrast-color-location\">רעננה, מחוז המרכז</span>, <span class=\"jobCardShelfIcon\"><svg fill=\"none\" height=\"16\" viewbox=\"0 0 20 20\" width=\"16\"><rect fill=\"#FF5A1F\" height=\"20\" rx=\"10\" width=\"20\"></rect><path clip-rule=\"evenodd\" d=\"M15.3125 4.0625L10.8125 15.3125L7.99999 11.375L15.3125 4.0625ZM7.604 12.7576L6.875 15.3125L8.567 14.1054L7.604 12.7576ZM7.20463 10.5796L12.419 5.36525L4.0625 9.125L6.9875 10.7968L7.20463 10.5796Z\" fill=\"white\" fill-rule=\"evenodd\"></path></svg></span>, <span class=\"iaLabel iaIconActive\">הגשת מועמדות בקלות</span>, <span class=\"date\">היום</span>, <span class=\"tt_set\" id=\"tt_set_3\"><span class=\"result-link-bar-separator\">·</span><a class=\"sl resultLink save-job-link\" href=\"#\" id=\"sj_cddbb7072c9c1294\" onclick=\"changeJobState('cddbb7072c9c1294', 'save', 'linkbar', false, ''); return false;\" title=\"שמירת משרה זו ל-my.indeed\">שמירת משרה</a><span class=\"result-link-bar-separator\">·</span><button aria-expanded=\"false\" class=\"sl resultLink more-link\" id=\"tog_3\" onclick=\"toggleMoreLinks('cddbb7072c9c1294', '3'); return false;\">עוד...</button></span>, <span class=\"result-link-bar-separator\">·</span>, <span class=\"result-link-bar-separator\">·</span>, <span class=\"mat\">הצגת כל המשרות <a href=\"/Liveperson-jobs\" rel=\"nofollow\">משרות LivePerson</a> - <a href=\"/jobs-in-%D7%A8%D7%A2%D7%A0%D7%A0%D7%94,-%D7%9E%D7%97%D7%95%D7%96-%D7%94%D7%9E%D7%A8%D7%9B%D7%96\">רעננה</a></span>]\n",
      "/rc/clk?jk=cddbb7072c9c1294&fccid=051e0bdf026c3e60&vjs=3\n",
      "{'company': 'LivePerson', 'location': 'רעננה, מחוז המרכז', 'title': 'Senior BI Developer', 'posted': 'היום', 'description': 'SQL statements. Data architecture and modelling skills. Coding/Scripting experience in Java – big Advantage. Experience with Big data technologies (Hadoop...', 'link': '/rc/clk?jk=cddbb7072c9c1294&fccid=051e0bdf026c3e60&vjs=3'}\n",
      "[<span class=\"new\">חדש</span>, <span class=\"company\">\n",
      "Gotfriends</span>, <span class=\"location accessible-contrast-color-location\">תל אביב -יפו, מחוז תל אביב</span>, <span class=\"date\">היום</span>, <span class=\"tt_set\" id=\"tt_set_4\"><span class=\"result-link-bar-separator\">·</span><a class=\"sl resultLink save-job-link\" href=\"#\" id=\"sj_2d5d6b1eeb24e7a2\" onclick=\"changeJobState('2d5d6b1eeb24e7a2', 'save', 'linkbar', false, ''); return false;\" title=\"שמירת משרה זו ל-my.indeed\">שמירת משרה</a><span class=\"result-link-bar-separator\">·</span><button aria-expanded=\"false\" class=\"sl resultLink more-link\" id=\"tog_4\" onclick=\"toggleMoreLinks('2d5d6b1eeb24e7a2', '4'); return false;\">עוד...</button></span>, <span class=\"result-link-bar-separator\">·</span>, <span class=\"result-link-bar-separator\">·</span>, <span class=\"mat\">הצגת כל המשרות <a href=\"/Gotfriends-jobs\" rel=\"nofollow\">משרות Gotfriends</a> - <a href=\"/jobs?l=%D7%AA%D7%9C+%D7%90%D7%91%D7%99%D7%91+-%D7%99%D7%A4%D7%95,+%D7%9E%D7%97%D7%95%D7%96+%D7%AA%D7%9C+%D7%90%D7%91%D7%99%D7%91\">תל אביב -יפו</a></span>]\n",
      "/rc/clk?jk=2d5d6b1eeb24e7a2&fccid=6d48945f27751e09&vjs=3\n",
      "{'company': 'Gotfriends', 'location': 'תל אביב -יפו, מחוז תל אביב', 'title': 'Big Data Team Lead לחברה מרשימה בתחום הAnalytics בהרצליה', 'posted': 'היום', 'description': \"המשרה: היי, דרוש/ה Big Data Team Leader לחברה מובילה... דרישות המשרה: - 3 שנות נסיון ניהוליות - נסיון בBig Data - 5 שנות נסיון בפיתוח - נסיון בProduction מס'...\", 'link': '/rc/clk?jk=2d5d6b1eeb24e7a2&fccid=6d48945f27751e09&vjs=3'}\n",
      "[<span class=\"new\">חדש</span>, <span class=\"company\">\n",
      "JobInfo</span>, <span class=\"location accessible-contrast-color-location\">תל אביב -יפו, מחוז תל אביב</span>, <span class=\"date\">לפני יום 1</span>, <span class=\"tt_set\" id=\"tt_set_5\"><span class=\"result-link-bar-separator\">·</span><a class=\"sl resultLink save-job-link\" href=\"#\" id=\"sj_ca1f9f8f8dea4248\" onclick=\"changeJobState('ca1f9f8f8dea4248', 'save', 'linkbar', false, ''); return false;\" title=\"שמירת משרה זו ל-my.indeed\">שמירת משרה</a><span class=\"result-link-bar-separator\">·</span><button aria-expanded=\"false\" class=\"sl resultLink more-link\" id=\"tog_5\" onclick=\"toggleMoreLinks('ca1f9f8f8dea4248', '5'); return false;\">עוד...</button></span>, <span class=\"result-link-bar-separator\">·</span>, <span class=\"result-link-bar-separator\">·</span>, <span class=\"mat\">הצגת כל המשרות <a href=\"/Jobinfo-jobs\" rel=\"nofollow\">משרות JobInfo</a> - <a href=\"/jobs?l=%D7%AA%D7%9C+%D7%90%D7%91%D7%99%D7%91+-%D7%99%D7%A4%D7%95,+%D7%9E%D7%97%D7%95%D7%96+%D7%AA%D7%9C+%D7%90%D7%91%D7%99%D7%91\">תל אביב -יפו</a></span>]\n",
      "/rc/clk?jk=ca1f9f8f8dea4248&fccid=2cf314afba23cb11&vjs=3\n",
      "{'company': 'JobInfo', 'location': 'תל אביב -יפו, מחוז תל אביב', 'title': 'Principal Big Data Engineer', 'posted': 'לפני יום 1', 'description': 'and analyzing our data and data systems. You know how... data into a form suitable for analysis. Analyzing processed data, Monitoring data performance and...', 'link': '/rc/clk?jk=ca1f9f8f8dea4248&fccid=2cf314afba23cb11&vjs=3'}\n",
      "[<span class=\"new\">חדש</span>, <span class=\"location accessible-contrast-color-location\">ירושלים, מחוז ירושלים</span>, <span class=\"date\">פורסם כרגע</span>, <span class=\"tt_set\" id=\"tt_set_6\"><span class=\"result-link-bar-separator\">·</span><a class=\"sl resultLink save-job-link\" href=\"#\" id=\"sj_c259335055ebb576\" onclick=\"changeJobState('c259335055ebb576', 'save', 'linkbar', false, ''); return false;\" title=\"שמירת משרה זו ל-my.indeed\">שמירת משרה</a><span class=\"result-link-bar-separator\">·</span><button aria-expanded=\"false\" class=\"sl resultLink more-link\" id=\"tog_6\" onclick=\"toggleMoreLinks('c259335055ebb576', '6'); return false;\">עוד...</button></span>, <span class=\"result-link-bar-separator\">·</span>, <span class=\"result-link-bar-separator\">·</span>, <span class=\"mat\">הצג את כל המשרות ב<a href=\"/jobs-in-%D7%99%D7%A8%D7%95%D7%A9%D7%9C%D7%99%D7%9D,-%D7%9E%D7%97%D7%95%D7%96-%D7%99%D7%A8%D7%95%D7%A9%D7%9C%D7%99%D7%9D\">ירושלים, מחוז ירושלים</a></span>]\n",
      "/rc/clk?jk=c259335055ebb576&fccid=dd616958bd9ddc12&vjs=3\n"
     ]
    },
    {
     "ename": "AttributeError",
     "evalue": "'NoneType' object has no attribute 'text'",
     "output_type": "error",
     "traceback": [
      "\u001b[0;31m---------------------------------------------------------------------------\u001b[0m",
      "\u001b[0;31mAttributeError\u001b[0m                            Traceback (most recent call last)",
      "\u001b[0;32m<ipython-input-172-82fe488a2c34>\u001b[0m in \u001b[0;36m<module>\u001b[0;34m\u001b[0m\n\u001b[1;32m      5\u001b[0m         \u001b[0mjob_info\u001b[0m \u001b[0;34m=\u001b[0m \u001b[0mdict\u001b[0m\u001b[0;34m(\u001b[0m\u001b[0;34m)\u001b[0m\u001b[0;34m\u001b[0m\u001b[0;34m\u001b[0m\u001b[0m\n\u001b[1;32m      6\u001b[0m         \u001b[0mprint\u001b[0m\u001b[0;34m(\u001b[0m\u001b[0mjob\u001b[0m\u001b[0;34m.\u001b[0m\u001b[0mfind\u001b[0m\u001b[0;34m(\u001b[0m\u001b[0;34m'a'\u001b[0m\u001b[0;34m)\u001b[0m\u001b[0;34m[\u001b[0m\u001b[0;34m'href'\u001b[0m\u001b[0;34m]\u001b[0m\u001b[0;34m)\u001b[0m\u001b[0;34m\u001b[0m\u001b[0;34m\u001b[0m\u001b[0m\n\u001b[0;32m----> 7\u001b[0;31m         \u001b[0mjob_info\u001b[0m\u001b[0;34m[\u001b[0m\u001b[0;34m'company'\u001b[0m\u001b[0;34m]\u001b[0m \u001b[0;34m=\u001b[0m \u001b[0mjob\u001b[0m\u001b[0;34m.\u001b[0m\u001b[0mfind\u001b[0m\u001b[0;34m(\u001b[0m\u001b[0;34m\"span\"\u001b[0m\u001b[0;34m,\u001b[0m \u001b[0mclass_\u001b[0m\u001b[0;34m=\u001b[0m\u001b[0;34m'company'\u001b[0m\u001b[0;34m)\u001b[0m\u001b[0;34m.\u001b[0m\u001b[0mtext\u001b[0m\u001b[0;34m.\u001b[0m\u001b[0mstrip\u001b[0m\u001b[0;34m(\u001b[0m\u001b[0;34m)\u001b[0m\u001b[0;34m\u001b[0m\u001b[0;34m\u001b[0m\u001b[0m\n\u001b[0m\u001b[1;32m      8\u001b[0m         \u001b[0mjob_info\u001b[0m\u001b[0;34m[\u001b[0m\u001b[0;34m'location'\u001b[0m\u001b[0;34m]\u001b[0m \u001b[0;34m=\u001b[0m \u001b[0mjob\u001b[0m\u001b[0;34m.\u001b[0m\u001b[0mfind\u001b[0m\u001b[0;34m(\u001b[0m\u001b[0;34m'div'\u001b[0m\u001b[0;34m,\u001b[0m \u001b[0mclass_\u001b[0m\u001b[0;34m=\u001b[0m\u001b[0;34m\"recJobLoc\"\u001b[0m\u001b[0;34m)\u001b[0m\u001b[0;34m[\u001b[0m\u001b[0;34m'data-rc-loc'\u001b[0m\u001b[0;34m]\u001b[0m\u001b[0;34m\u001b[0m\u001b[0;34m\u001b[0m\u001b[0m\n\u001b[1;32m      9\u001b[0m         \u001b[0mjob_info\u001b[0m\u001b[0;34m[\u001b[0m\u001b[0;34m'title'\u001b[0m\u001b[0;34m]\u001b[0m \u001b[0;34m=\u001b[0m \u001b[0mjob\u001b[0m\u001b[0;34m.\u001b[0m\u001b[0mfind\u001b[0m\u001b[0;34m(\u001b[0m\u001b[0;34m'a'\u001b[0m\u001b[0;34m)\u001b[0m\u001b[0;34m[\u001b[0m\u001b[0;34m'title'\u001b[0m\u001b[0;34m]\u001b[0m\u001b[0;34m.\u001b[0m\u001b[0mstrip\u001b[0m\u001b[0;34m(\u001b[0m\u001b[0;34m)\u001b[0m\u001b[0;34m\u001b[0m\u001b[0;34m\u001b[0m\u001b[0m\n",
      "\u001b[0;31mAttributeError\u001b[0m: 'NoneType' object has no attribute 'text'"
     ]
    }
   ],
   "source": [
    "\n",
    "job_listings\n",
    "for job in job_listings:\n",
    "        print(job.find_all('span'))\n",
    "        # create job info dict:\n",
    "        job_info = dict()\n",
    "        print(job.find('a')['href'])\n",
    "        job_info['company'] = job.find(\"span\", class_='company').text.strip()\n",
    "        job_info['location'] = job.find('div', class_=\"recJobLoc\")['data-rc-loc']\n",
    "        job_info['title'] = job.find('a')['title'].strip()\n",
    "        job_info['posted'] = job.find('span', class_='date').text\n",
    "        job_info['description'] = job.find('div', class_='summary').text.strip().replace('\\n', '')\n",
    "        job_info['link'] = job.find('a')['href']\n",
    "        \n",
    "        # append dictionary to job list:\n",
    "        print(job_info)"
   ]
  },
  {
   "cell_type": "code",
   "execution_count": null,
   "metadata": {},
   "outputs": [],
   "source": []
  }
 ],
 "metadata": {
  "kernelspec": {
   "display_name": "Python 3",
   "language": "python",
   "name": "python3"
  },
  "language_info": {
   "codemirror_mode": {
    "name": "ipython",
    "version": 3
   },
   "file_extension": ".py",
   "mimetype": "text/x-python",
   "name": "python",
   "nbconvert_exporter": "python",
   "pygments_lexer": "ipython3",
   "version": "3.6.9"
  }
 },
 "nbformat": 4,
 "nbformat_minor": 4
}
